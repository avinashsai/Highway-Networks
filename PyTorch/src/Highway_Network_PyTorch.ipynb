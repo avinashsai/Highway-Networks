{
  "nbformat": 4,
  "nbformat_minor": 0,
  "metadata": {
    "colab": {
      "name": "Highway Network PyTorch.ipynb",
      "provenance": [],
      "collapsed_sections": []
    },
    "kernelspec": {
      "name": "python3",
      "display_name": "Python 3"
    },
    "accelerator": "GPU"
  },
  "cells": [
    {
      "cell_type": "code",
      "metadata": {
        "id": "HD3a4ilv21Dk",
        "colab_type": "code",
        "outputId": "02b5b3e2-fd90-4776-eb98-9412839d7bee",
        "colab": {
          "base_uri": "https://localhost:8080/",
          "height": 34
        }
      },
      "source": [
        "import os\n",
        "import re\n",
        "import sys\n",
        "import time\n",
        "import pickle\n",
        "import math\n",
        "import random\n",
        "import string\n",
        "import collections\n",
        "import copy\n",
        "import numpy as np\n",
        "import pandas as pd\n",
        "import matplotlib.pyplot as plt\n",
        "from sklearn.model_selection import train_test_split,StratifiedKFold\n",
        "from sklearn.metrics import accuracy_score,f1_score\n",
        "import torch\n",
        "import torch.nn as nn\n",
        "import torch.nn.functional as F\n",
        "import torch.optim as optim\n",
        "import torch.utils.data\n",
        "import torchvision\n",
        "from torchvision import datasets, transforms\n",
        "from torch.optim.lr_scheduler import StepLR\n",
        "from .highway import *\n",
        "device = torch.device('cuda' if torch.cuda.is_available() else 'cpu')\n",
        "seed = 0\n",
        "print(device)"
      ],
      "execution_count": 9,
      "outputs": [
        {
          "output_type": "stream",
          "text": [
            "cuda\n"
          ],
          "name": "stdout"
        }
      ]
    },
    {
      "cell_type": "code",
      "metadata": {
        "id": "BYb3qNSt3RHT",
        "colab_type": "code",
        "colab": {}
      },
      "source": [
        "transform = transforms.Compose(\n",
        "    [transforms.ToTensor(),\n",
        "     transforms.Normalize((0.5, 0.5, 0.5), (0.5, 0.5, 0.5))])"
      ],
      "execution_count": 0,
      "outputs": []
    },
    {
      "cell_type": "code",
      "metadata": {
        "id": "WCxkw2e73UNc",
        "colab_type": "code",
        "outputId": "a9e259e3-11ec-468f-e8e0-d642f0a2f5bf",
        "colab": {
          "base_uri": "https://localhost:8080/",
          "height": 85
        }
      },
      "source": [
        "trainset = torchvision.datasets.CIFAR10(root=' ', train=True,\n",
        "                                        download=True, transform=transform)\n",
        "trainloader = torch.utils.data.DataLoader(trainset, batch_size=100,\n",
        "                                          shuffle=True, num_workers=1)\n",
        "\n",
        "testset = torchvision.datasets.CIFAR10(root=' ', train=False,\n",
        "                                       download=True, transform=transform)\n",
        "testloader = torch.utils.data.DataLoader(testset, batch_size=100,\n",
        "                                         shuffle=False, num_workers=1)"
      ],
      "execution_count": 11,
      "outputs": [
        {
          "output_type": "stream",
          "text": [
            "  0%|          | 0/170498071 [00:00<?, ?it/s]"
          ],
          "name": "stderr"
        },
        {
          "output_type": "stream",
          "text": [
            "Downloading https://www.cs.toronto.edu/~kriz/cifar-10-python.tar.gz to  /cifar-10-python.tar.gz\n"
          ],
          "name": "stdout"
        },
        {
          "output_type": "stream",
          "text": [
            "170500096it [00:01, 88915699.86it/s]                               \n"
          ],
          "name": "stderr"
        },
        {
          "output_type": "stream",
          "text": [
            "Extracting  /cifar-10-python.tar.gz to  \n",
            "Files already downloaded and verified\n"
          ],
          "name": "stdout"
        }
      ]
    },
    {
      "cell_type": "code",
      "metadata": {
        "id": "ol-81jH_FQlb",
        "colab_type": "code",
        "colab": {}
      },
      "source": [
        "filtersize = 64"
      ],
      "execution_count": 0,
      "outputs": []
    },
    {
      "cell_type": "code",
      "metadata": {
        "id": "COMt2-jQ9T65",
        "colab_type": "code",
        "colab": {}
      },
      "source": [
        "class HighwayNet(nn.Module):\n",
        "  def __init__(self):\n",
        "    super(HighwayNet,self).__init__()\n",
        "    self.channels = 3\n",
        "    self.filtersize = filtersize\n",
        "    self.conv1 = nn.Conv2d(self.channels,self.filtersize,3)\n",
        "    self.high1 = Conv2DHighwayLayer(self.filtersize,self.filtersize,3)\n",
        "    self.high2 = Conv2DHighwayLayer(self.filtersize,self.filtersize,3)\n",
        "    self.high3 = Conv2DHighwayLayer(self.filtersize,self.filtersize,3)\n",
        "    self.flatten = nn.Flatten(1,-1)\n",
        "    self.fc1 = nn.Linear(576,128)\n",
        "    self.fc2 = nn.Linear(128,10)\n",
        "  \n",
        "  def forward(self,x):\n",
        "    x = F.relu(self.conv1(x))\n",
        "    out = self.high1(x)\n",
        "    out = F.max_pool2d(out,kernel_size=(2,2))\n",
        "    out = self.high2(out)\n",
        "    out = F.max_pool2d(out,kernel_size=(2,2))\n",
        "    out = self.high3(out)\n",
        "    out = F.max_pool2d(out,kernel_size=(2,2))\n",
        "    out = self.flatten(out)\n",
        "    out = F.relu(self.fc1(out))\n",
        "    out = F.dropout(out,0.3)\n",
        "    out = self.fc2(out)\n",
        "    return out"
      ],
      "execution_count": 0,
      "outputs": []
    },
    {
      "cell_type": "code",
      "metadata": {
        "id": "Y_NmiNpPGIlI",
        "colab_type": "code",
        "colab": {}
      },
      "source": [
        "class Net(nn.Module):\n",
        "  def __init__(self):\n",
        "    super(Net,self).__init__()\n",
        "    self.channels = 3\n",
        "    self.filtersize = filtersize\n",
        "    self.conv1 = nn.Conv2d(self.channels,self.filtersize,3)\n",
        "    self.conv2 = nn.Conv2d(self.filtersize,self.filtersize,3)\n",
        "    self.conv3 = nn.Conv2d(self.filtersize,self.filtersize,3)\n",
        "    self.conv4 = nn.Conv2d(self.filtersize,self.filtersize,3)\n",
        "    self.flatten = nn.Flatten(1,-1)\n",
        "    self.fc1 = nn.Linear(256,64)\n",
        "    self.fc2 = nn.Linear(64,10)\n",
        "  \n",
        "  def forward(self,x):\n",
        "    x = F.relu(self.conv1(x))\n",
        "    out = self.conv2(x)\n",
        "    out = F.max_pool2d(out,kernel_size=(2,2))\n",
        "    out = self.conv3(out)\n",
        "    out = F.max_pool2d(out,kernel_size=(2,2))\n",
        "    out = self.conv4(out)\n",
        "    out = F.max_pool2d(out,kernel_size=(2,2))\n",
        "    out = self.flatten(out)\n",
        "    out = F.relu(self.fc1(out))\n",
        "    out = F.dropout(out,0.3)\n",
        "    out = self.fc2(out)\n",
        "    return out"
      ],
      "execution_count": 0,
      "outputs": []
    },
    {
      "cell_type": "code",
      "metadata": {
        "id": "PUKu909-Isjz",
        "colab_type": "code",
        "colab": {}
      },
      "source": [
        "def evaluate(net,loader):\n",
        "  correct = 0.0\n",
        "  total = 0.0\n",
        "  curloss = 0.0\n",
        "  with torch.no_grad():\n",
        "    net.eval()\n",
        "    for images,labels in loader:\n",
        "      images, labels = images.to(device), labels.to(device)\n",
        "      output = net(images)\n",
        "      l = F.cross_entropy(output,labels)\n",
        "      output = torch.argmax(output,1)\n",
        "      total+=output.size(0)\n",
        "      correct+=(output==labels).sum().item()\n",
        "      curloss+=l.item()\n",
        "\n",
        "    curloss = curloss/total\n",
        "    acc = (correct/total) * 100\n",
        "    return round(curloss,4),round(acc,3)"
      ],
      "execution_count": 0,
      "outputs": []
    },
    {
      "cell_type": "code",
      "metadata": {
        "id": "GX4bW-z-JC5X",
        "colab_type": "code",
        "colab": {}
      },
      "source": [
        "numepochs = 200"
      ],
      "execution_count": 0,
      "outputs": []
    },
    {
      "cell_type": "code",
      "metadata": {
        "id": "BjQiX9YFJEbQ",
        "colab_type": "code",
        "colab": {
          "base_uri": "https://localhost:8080/",
          "height": 816
        },
        "outputId": "277fa0ce-ccca-4ddd-d6bb-eef4c393c4e8"
      },
      "source": [
        "np.random.seed(seed)\n",
        "torch.manual_seed(seed)\n",
        "\n",
        "model1_train_loss = []\n",
        "model1_train_acc = []\n",
        "model1 = Net().to(device)\n",
        "optim1 = optim.Adam(model1.parameters(),lr=0.0003)\n",
        "model1.train()\n",
        "print(\"Training Neural Network with No Highway Layers\")\n",
        "print(\"------------------------------------------------------------------------------\")\n",
        "for epoch in range(1,numepochs+1):\n",
        "  model1.train()\n",
        "  for images,labels in trainloader:\n",
        "    images,labels = images.to(device),labels.to(device)\n",
        "    model1.zero_grad()\n",
        "    output = model1(images)\n",
        "    loss = F.cross_entropy(output,labels)\n",
        "    loss.backward()\n",
        "    optim1.step()\n",
        "\n",
        "  curtrainloss, curtrainacc = evaluate(model1,trainloader)\n",
        "  if(epoch%10==0):\n",
        "    print(\"Epoch {} Train Loss {} Train Accuracy {} \".format(epoch,curtrainloss,curtrainacc))\n",
        "  model1_train_loss.append(curtrainloss)\n",
        "  model1_train_acc.append(curtrainacc)\n",
        "\n",
        "curtestloss, curtestacc = evaluate(model1,testloader)\n",
        "print(\"Model 1 (Without Highway Layers) Test Accuracy {} \".format(curtestacc))\n",
        "print(\"------------------------------------------------------------------------------\")\n",
        "print(\"------------------------------------------------------------------------------\")\n",
        "print(\"Training Neural Network with Highway Layers \")\n",
        "model2_train_loss = []\n",
        "model2_train_acc = []\n",
        "model2 = HighwayNet().to(device)\n",
        "optim2 = optim.Adam(model2.parameters(),lr=0.003)\n",
        "model2.train()\n",
        "for epoch in range(1,numepochs+1):\n",
        "  model2.train()\n",
        "  for images,labels in trainloader:\n",
        "    images,labels = images.to(device),labels.to(device)\n",
        "    model2.zero_grad()\n",
        "    output = model2(images)\n",
        "    loss = F.cross_entropy(output,labels)\n",
        "    loss.backward()\n",
        "    optim2.step()\n",
        "\n",
        "  curtrainloss, curtrainacc = evaluate(model2,trainloader)\n",
        "  if(epoch%10==0):\n",
        "    print(\"Epoch {} Train Loss {} Train Accuracy {} \".format(epoch,curtrainloss,curtrainacc))\n",
        "  model2_train_loss.append(curtrainloss)\n",
        "  model2_train_acc.append(curtrainacc)\n",
        "\n",
        "curtestloss, curtestacc = evaluate(model2,testloader)\n",
        "print(\"Model 2 (With Highway Layers) Accuracy {} \".format(curtestacc))"
      ],
      "execution_count": 58,
      "outputs": [
        {
          "output_type": "stream",
          "text": [
            "Training Neural Network with No Highway Layers\n",
            "------------------------------------------------------------------------------\n",
            "Epoch 10 Train Loss 0.0082 Train Accuracy 71.332 \n",
            "Epoch 20 Train Loss 0.0059 Train Accuracy 79.154 \n",
            "Epoch 30 Train Loss 0.0048 Train Accuracy 82.564 \n",
            "Epoch 40 Train Loss 0.0037 Train Accuracy 86.468 \n",
            "Epoch 50 Train Loss 0.003 Train Accuracy 89.166 \n",
            "Epoch 60 Train Loss 0.0025 Train Accuracy 90.812 \n",
            "Epoch 70 Train Loss 0.0021 Train Accuracy 92.334 \n",
            "Epoch 80 Train Loss 0.0017 Train Accuracy 93.924 \n",
            "Epoch 90 Train Loss 0.0015 Train Accuracy 94.472 \n",
            "Epoch 100 Train Loss 0.0013 Train Accuracy 95.1 \n",
            "Epoch 110 Train Loss 0.0012 Train Accuracy 95.576 \n",
            "Epoch 120 Train Loss 0.0011 Train Accuracy 95.932 \n",
            "Epoch 130 Train Loss 0.0011 Train Accuracy 96.006 \n",
            "Epoch 140 Train Loss 0.0011 Train Accuracy 96.114 \n",
            "Epoch 150 Train Loss 0.0009 Train Accuracy 96.818 \n",
            "Epoch 160 Train Loss 0.0009 Train Accuracy 96.776 \n",
            "Epoch 170 Train Loss 0.0008 Train Accuracy 97.064 \n",
            "Epoch 180 Train Loss 0.0008 Train Accuracy 96.938 \n",
            "Epoch 190 Train Loss 0.0009 Train Accuracy 96.936 \n",
            "Epoch 200 Train Loss 0.0007 Train Accuracy 97.364 \n",
            "Model 1 (Without Highway Layers) Test Accuracy 68.39 \n",
            "------------------------------------------------------------------------------\n",
            "------------------------------------------------------------------------------\n",
            "Training Neural Network with Highway Layers \n",
            "Epoch 10 Train Loss 0.0051 Train Accuracy 81.956 \n",
            "Epoch 20 Train Loss 0.0034 Train Accuracy 87.566 \n",
            "Epoch 30 Train Loss 0.0027 Train Accuracy 90.064 \n",
            "Epoch 40 Train Loss 0.0023 Train Accuracy 91.67 \n",
            "Epoch 50 Train Loss 0.0022 Train Accuracy 92.108 \n",
            "Epoch 60 Train Loss 0.0017 Train Accuracy 93.814 \n",
            "Epoch 70 Train Loss 0.0019 Train Accuracy 93.192 \n",
            "Epoch 80 Train Loss 0.0015 Train Accuracy 94.834 \n",
            "Epoch 90 Train Loss 0.0014 Train Accuracy 95.074 \n",
            "Epoch 100 Train Loss 0.0017 Train Accuracy 93.974 \n",
            "Epoch 110 Train Loss 0.0015 Train Accuracy 94.862 \n",
            "Epoch 120 Train Loss 0.0013 Train Accuracy 95.646 \n",
            "Epoch 130 Train Loss 0.0013 Train Accuracy 95.452 \n",
            "Epoch 140 Train Loss 0.0014 Train Accuracy 95.146 \n",
            "Epoch 150 Train Loss 0.0014 Train Accuracy 95.246 \n",
            "Epoch 160 Train Loss 0.0012 Train Accuracy 95.778 \n",
            "Epoch 170 Train Loss 0.0012 Train Accuracy 95.92 \n",
            "Epoch 180 Train Loss 0.0012 Train Accuracy 95.964 \n",
            "Epoch 190 Train Loss 0.0013 Train Accuracy 95.532 \n",
            "Epoch 200 Train Loss 0.0012 Train Accuracy 95.964 \n",
            "Model 2 (With Highway Layers) Accuracy 70.35 \n"
          ],
          "name": "stdout"
        }
      ]
    },
    {
      "cell_type": "code",
      "metadata": {
        "id": "xeat0x67KGDX",
        "colab_type": "code",
        "colab": {
          "base_uri": "https://localhost:8080/",
          "height": 295
        },
        "outputId": "49be7f99-0f9a-41ed-dc7c-442f42658933"
      },
      "source": [
        "iterations = list(range(numepochs))\n",
        "plt.plot(model1_train_loss, iterations, 'r', label='No Highway Layers') # plotting model1 train loss separately \n",
        "plt.plot(model2_train_loss, iterations, 'b', label='Highway Layers') # plotting model2 train loss separately \n",
        "plt.xlabel('Training Loss')\n",
        "plt.ylabel('Epochs')\n",
        "plt.title('Training Loss vs Epochs')\n",
        "plt.legend()\n",
        "plt.show()"
      ],
      "execution_count": 59,
      "outputs": [
        {
          "output_type": "display_data",
          "data": {
            "image/png": "[encoded data removed]",
            "text/plain": [
              "<Figure size 432x288 with 1 Axes>"
            ]
          },
          "metadata": {
            "tags": []
          }
        }
      ]
    },
    {
      "cell_type": "code",
      "metadata": {
        "id": "n6YVTZxdKJL8",
        "colab_type": "code",
        "colab": {
          "base_uri": "https://localhost:8080/",
          "height": 295
        },
        "outputId": "968bd8f3-ae35-4851-bae2-b67265a10f19"
      },
      "source": [
        "plt.plot(model1_train_acc, iterations, 'r', label='No Highway Layers') # plotting model1 train accuracy separately \n",
        "plt.plot(model2_train_acc, iterations, 'b', label='Highway Layers') # plotting model2 train accuracy separately \n",
        "plt.legend()\n",
        "plt.xlabel('Training Accuracy')\n",
        "plt.ylabel('Epochs')\n",
        "plt.title('Training Accuracy vs Epochs')\n",
        "plt.show()"
      ],
      "execution_count": 60,
      "outputs": [
        {
          "output_type": "display_data",
          "data": {
            "image/png": "[encoded data removed]",
            "text/plain": [
              "<Figure size 432x288 with 1 Axes>"
            ]
          },
          "metadata": {
            "tags": []
          }
        }
      ]
    },
    {
      "cell_type": "code",
      "metadata": {
        "id": "BYJrsJsmKWnH",
        "colab_type": "code",
        "colab": {}
      },
      "source": [
        ""
      ],
      "execution_count": 0,
      "outputs": []
    }
  ]
}